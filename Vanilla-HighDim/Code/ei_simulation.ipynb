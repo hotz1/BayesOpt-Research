{
 "cells": [
  {
   "cell_type": "code",
   "execution_count": 1,
   "id": "7d3fdb7e-24c7-4e04-b6a5-18edffb50300",
   "metadata": {},
   "outputs": [],
   "source": [
    "import torch\n",
    "import tqdm.notebook as tqdm"
   ]
  },
  {
   "cell_type": "code",
   "execution_count": 24,
   "id": "71205246-11fc-4ff1-ad50-780dbac58237",
   "metadata": {},
   "outputs": [
    {
     "data": {
      "application/vnd.jupyter.widget-view+json": {
       "model_id": "d687ad091aa2450283d311ed4aabb661",
       "version_major": 2,
       "version_minor": 0
      },
      "text/plain": [
       "  0%|          | 0/2000 [00:00<?, ?it/s]"
      ]
     },
     "metadata": {},
     "output_type": "display_data"
    },
    {
     "data": {
      "application/vnd.jupyter.widget-view+json": {
       "model_id": "9e568b70acff4a0ca1801fdd21f69245",
       "version_major": 2,
       "version_minor": 0
      },
      "text/plain": [
       "  0%|          | 0/2000 [00:00<?, ?it/s]"
      ]
     },
     "metadata": {},
     "output_type": "display_data"
    }
   ],
   "source": [
    "## Constants\n",
    "n = 10\n",
    "d = 10\n",
    "ls = 1.\n",
    "\n",
    "## Create dataset\n",
    "X = torch.randn(n, d)\n",
    "y = torch.randn(n).abs()\n",
    "\n",
    "## RBF kernel\n",
    "def kernel(x1, x2):\n",
    "    return (x1.unsqueeze(-2) - x2.unsqueeze(-3)).square().sum(dim=-1).div(-2. * x1.size(-1) * (ls ** 2)).exp()\n",
    "\n",
    "## Terms needed for EI\n",
    "K = kernel(X, X)\n",
    "chol = torch.linalg.cholesky(K, upper=False)\n",
    "chol_inv_y = torch.linalg.solve_triangular(chol, y.unsqueeze(-1), upper=False)\n",
    "ynorm = chol_inv_y.square().sum([-1, -2], keepdim=True).sqrt()\n",
    "ymax = y.max()\n",
    "normal = torch.distributions.Normal(0, 1)\n",
    "\n",
    "## Optimization parameters\n",
    "num_restarts = 1000\n",
    "num_optim_iter = 2000"
   ]
  },
  {
   "cell_type": "markdown",
   "id": "13d3fe52-bcf5-4a03-935e-0eef3ab34d20",
   "metadata": {},
   "source": [
    "## 1) Maximize EI (standard, no constraits)"
   ]
  },
  {
   "cell_type": "code",
   "execution_count": 35,
   "id": "8f1b47bc-a760-4717-9921-f4763b303556",
   "metadata": {},
   "outputs": [
    {
     "data": {
      "application/vnd.jupyter.widget-view+json": {
       "model_id": "98c2a26757c049fd97e6394f0c19847d",
       "version_major": 2,
       "version_minor": 0
      },
      "text/plain": [
       "  0%|          | 0/2000 [00:00<?, ?it/s]"
      ]
     },
     "metadata": {},
     "output_type": "display_data"
    },
    {
     "name": "stdout",
     "output_type": "stream",
     "text": [
      "max_x EI: 0.41078609228134155\n",
      "\n",
      "x^* (that maximizes EI):\n",
      "tensor([[ 0.9565, -0.1813,  0.4464,  0.0426,  2.0736, -2.5647, -0.3536,  0.7438,\n",
      "         -0.3749,  0.1315]])\n",
      "\n",
      "k(X, x^*):\n",
      "tensor([0.1731, 0.3620, 0.7559, 0.3595, 0.1059, 0.2934, 0.4287, 0.6212, 0.5080,\n",
      "        0.4374])\n",
      "\n"
     ]
    }
   ],
   "source": [
    "def ei(k):\n",
    "    chol_inv_k = torch.linalg.solve_triangular(chol, k, upper=False)\n",
    "    mu = (chol_inv_k.mT @ chol_inv_y)[..., 0, 0]\n",
    "    sigma = (1 - chol_inv_k.square().sum([-1, -2])).clamp_min(1e-10).sqrt()\n",
    "    z = (mu - ymax) / sigma\n",
    "    ei_ = (mu - ymax) * normal.cdf(z) + sigma * normal.log_prob(z).exp()\n",
    "    return ei_\n",
    "\n",
    "# Run optimization (with multiple restarts, all run in parallel)\n",
    "xs = torch.nn.Parameter(torch.randn(num_restarts, 1, d) * 3)\n",
    "optim = torch.optim.Adam([xs], lr=0.1)\n",
    "iterator = tqdm.tqdm(range(num_optim_iter))\n",
    "for i in iterator:\n",
    "    ks = kernel(X, xs)\n",
    "    eis = ei(ks)\n",
    "    eis.mul(-1).mean(-1).backward()\n",
    "    iterator.set_postfix(ei=eis.max().item())\n",
    "    optim.step()\n",
    "    optim.zero_grad()\n",
    "\n",
    "# Choose restart that maximizes EI\n",
    "with torch.no_grad():\n",
    "    ks = kernel(X, xs)\n",
    "    eis = ei(ks)\n",
    "    ei_max = eis.max()\n",
    "    x = xs[eis.argmax()].detach()\n",
    "\n",
    "# Print result from optimization\n",
    "print(f\"max_x EI: {ei_max.item()}\\n\")\n",
    "print(f\"x^* (that maximizes EI):\\n{x}\\n\")\n",
    "print(f\"k(X, x^*):\\n{kernel(X, x).squeeze()}\\n\")"
   ]
  },
  {
   "cell_type": "markdown",
   "id": "c2b07621-a89b-45ca-9c71-a56226b6207d",
   "metadata": {},
   "source": [
    "## 2) Choose a k vector (colinear to y) that maximizes EI\n",
    "\n",
    "Even if no such x vector can produce such a k"
   ]
  },
  {
   "cell_type": "code",
   "execution_count": 44,
   "id": "965e2c25-fc9c-4369-8e8c-7bedc6019a44",
   "metadata": {},
   "outputs": [
    {
     "data": {
      "application/vnd.jupyter.widget-view+json": {
       "model_id": "9c0c6dca754a4e16afc7a63e8f92b71d",
       "version_major": 2,
       "version_minor": 0
      },
      "text/plain": [
       "  0%|          | 0/2000 [00:00<?, ?it/s]"
      ]
     },
     "metadata": {},
     "output_type": "display_data"
    },
    {
     "data": {
      "application/vnd.jupyter.widget-view+json": {
       "model_id": "f194503bbb424fa696b3e2ff3f32daed",
       "version_major": 2,
       "version_minor": 0
      },
      "text/plain": [
       "  0%|          | 0/2000 [00:00<?, ?it/s]"
      ]
     },
     "metadata": {},
     "output_type": "display_data"
    },
    {
     "name": "stdout",
     "output_type": "stream",
     "text": [
      "max_x EI (upper bound): 1.3382394313812256\n",
      "\n",
      "gamma: 0.3518446981906891\n",
      "k^* (vector colinear to y that maximizes EI(k)):\n",
      "tensor([0.0775, 0.0425, 0.5291, 0.3493, 0.1394, 0.2620, 0.1623, 0.5231, 0.4304,\n",
      "        0.1375])\n",
      "x^* (the x that most closely produces k^*):\n",
      "tensor([-0.0631,  0.6964,  2.9375, -0.3638,  2.0657, -2.6489, -1.4593, -0.5205,\n",
      "        -1.1546, -0.4600])\n",
      "\n",
      "Actual EI at x^*: 0.14684860408306122\n",
      "\n"
     ]
    }
   ],
   "source": [
    "gammas_ = torch.nn.Parameter(torch.randn(num_restarts, 1, 1))\n",
    "optim = torch.optim.Adam([gammas_], lr=0.1)\n",
    "iterator = tqdm.tqdm(range(num_optim_iter))\n",
    "\n",
    "# Function to find the best x that minimizes ||k(X, x) - k||_2^2 for a given k\n",
    "def unkernel(k):\n",
    "    sq_dists = k.log().mul(-2. * X.size(-1) * (ls ** 2))\n",
    "    _xs = torch.nn.Parameter(torch.randn(num_restarts, 1, d) * 4)\n",
    "    optim = torch.optim.Adam([_xs], lr=0.1)\n",
    "    iterator = tqdm.tqdm(range(num_optim_iter))\n",
    "    for i in iterator:\n",
    "        _sq_dists = (X.unsqueeze(-2) - _xs.unsqueeze(-3)).square().sum(dim=-1).squeeze(-1)\n",
    "        losses = (_sq_dists - sq_dists).square().sum(dim=-1)\n",
    "        loss = losses.mean()\n",
    "        loss.backward()\n",
    "        iterator.set_postfix(loss=losses.min().item())\n",
    "        optim.step()\n",
    "        optim.zero_grad()\n",
    "    _x = _xs[losses.argmin()]\n",
    "    return _x.detach()\n",
    "\n",
    "# Run optimization (with multiple restarts, all run in parallel)\n",
    "for i in iterator:\n",
    "    gammas = torch.sigmoid(gammas_).div(ynorm)\n",
    "    eis = ei(y.unsqueeze(-1) * gammas)\n",
    "    eis.mul(-1).mean(-1).backward()\n",
    "    iterator.set_postfix(ei=eis.max().item())\n",
    "    optim.step()\n",
    "    optim.zero_grad()\n",
    "\n",
    "# Choose restart that maximizes EI\n",
    "with torch.no_grad():\n",
    "    gammas = torch.sigmoid(gammas_).div(ynorm)\n",
    "    eis = ei(y.unsqueeze(-1) * gammas)\n",
    "    ei_max_2 = eis.max()\n",
    "    gamma = gammas[eis.argmax()].detach().squeeze()\n",
    "    k_2 = y * gamma\n",
    "x_2 = unkernel(k_2)\n",
    "\n",
    "# Print result from optimization\n",
    "print(f\"max_x EI (upper bound): {ei_max_2.item()}\\n\")\n",
    "print(f\"gamma: {gamma.item()}\")\n",
    "print(f\"k^* (vector colinear to y that maximizes EI(k)):\\n{k_2}\")\n",
    "print(f\"x^* (the x that most closely produces k^*):\\n{x_2.squeeze()}\\n\")\n",
    "print(f\"Actual EI at x^*: {ei(kernel(X, x_2)).item()}\\n\")"
   ]
  }
 ],
 "metadata": {
  "kernelspec": {
   "display_name": "Python 3 (ipykernel)",
   "language": "python",
   "name": "python3"
  },
  "language_info": {
   "codemirror_mode": {
    "name": "ipython",
    "version": 3
   },
   "file_extension": ".py",
   "mimetype": "text/x-python",
   "name": "python",
   "nbconvert_exporter": "python",
   "pygments_lexer": "ipython3",
   "version": "3.10.14"
  }
 },
 "nbformat": 4,
 "nbformat_minor": 5
}
